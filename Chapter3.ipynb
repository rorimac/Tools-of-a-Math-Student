{
 "cells": [
  {
   "cell_type": "markdown",
   "metadata": {},
   "source": [
    "# Loops, functions and conditional statements\n",
    "\n",
    "This far, python has worked more or less like an advanced calculator. One of the strong advantages of using a programming language for mathematics is the possibility to write your own functions and to get the computer to repeat a task many times. We will start with the second bit.\n",
    "\n",
    "##Loops\n",
    "\n",
    "In mathematics we often define objects using indexes over a cenrain domain. We might sum the integers from $0$ to $n$ or define a sequence $(\\frac{1}{k})_{k = 1}^N$. How do we do this in python? We use loops for this. A loop is a set of instructions that tell the interpreter to repeat some code until a condition is met. The most common ones in python are the for-loop and the while-loop. We will look at the for-loop, there is plenty documentation on while-loops on the web. The basic structure of the for-loop is this:\n",
    "\n",
    "    for ELEMENT in LIST:\n",
    "        do this\n",
    "        and do this\n",
    "    this is not performed in the loop\n",
    "\n",
    "What it means is that ELEMENT takes of each value in LIST and the indented code is excecuted for each step. After ELEMENT has taken on each value of LIST the loop is finished and the iterpreter goes to the next line of code. Here is an example:"
   ]
  },
  {
   "cell_type": "code",
   "execution_count": 13,
   "metadata": {
    "collapsed": false
   },
   "outputs": [
    {
     "name": "stdout",
     "output_type": "stream",
     "text": [
      "1\n",
      "3.4\n",
      "['a', 5]\n",
      "somethin'\n",
      "('bar', 'foo')\n",
      "\n",
      "\n",
      "This is after the loop\n"
     ]
    }
   ],
   "source": [
    "simplelist = [1,3.4,['a',5],\"somethin'\",(\"bar\",\"foo\")]\n",
    "\n",
    "for thing in simplelist:\n",
    "    print thing\n",
    "print \"\\n\" #Add an extra new line\n",
    "print \"This is after the loop\""
   ]
  },
  {
   "cell_type": "markdown",
   "metadata": {},
   "source": [
    "Notice that the indentation is crucial. This is how python knows that certain lines of code belong to the loop. The standard is to use four spaces for indentation and I strongly urge you to do the same, but as long as the indentation is consistent within each block the code will run. Blocks of code can be conditions, loops or functions and they can be within other blocks of code."
   ]
  },
  {
   "cell_type": "code",
   "execution_count": 4,
   "metadata": {
    "collapsed": false
   },
   "outputs": [
    {
     "name": "stdout",
     "output_type": "stream",
     "text": [
      "1\n",
      "2\n",
      "3\n",
      "2\n",
      "3\n",
      "4\n"
     ]
    }
   ],
   "source": [
    "anotherList = [[1,2],[3,2],[3,4]]\n",
    "for first in anotherList:\n",
    "    for second in first: #first is a list so it can be used in a loop\n",
    "        print second"
   ]
  },
  {
   "cell_type": "markdown",
   "metadata": {},
   "source": [
    "while lists are the most common to loop over, you can loop over any object that is ordered."
   ]
  },
  {
   "cell_type": "code",
   "execution_count": 6,
   "metadata": {
    "collapsed": false
   },
   "outputs": [
    {
     "name": "stdout",
     "output_type": "stream",
     "text": [
      "2\n",
      "3\n",
      "2\n"
     ]
    }
   ],
   "source": [
    "simpletuple = (2,3,\"2\")\n",
    "for i in simpletuple:\n",
    "    print i"
   ]
  },
  {
   "cell_type": "code",
   "execution_count": 7,
   "metadata": {
    "collapsed": false
   },
   "outputs": [
    {
     "name": "stdout",
     "output_type": "stream",
     "text": [
      "D\n",
      "u\n",
      "s\n",
      "t\n",
      " \n",
      "t\n",
      "a\n",
      "s\n",
      "t\n",
      "e\n",
      "s\n",
      " \n",
      "g\n",
      "o\n",
      "o\n",
      "d\n"
     ]
    }
   ],
   "source": [
    "some_string = \"Dust tastes good\"\n",
    "for i in some_string:\n",
    "    print i"
   ]
  },
  {
   "cell_type": "markdown",
   "metadata": {},
   "source": [
    "Often you want to just repeat the code a certain amount of times or do it from, say, $0$ to $n$. To do this we can use the range function."
   ]
  },
  {
   "cell_type": "code",
   "execution_count": 8,
   "metadata": {
    "collapsed": false
   },
   "outputs": [
    {
     "data": {
      "text/plain": [
       "[0, 1, 2, 3, 4, 5, 6, 7, 8, 9]"
      ]
     },
     "execution_count": 8,
     "metadata": {},
     "output_type": "execute_result"
    }
   ],
   "source": [
    "range(10)"
   ]
  },
  {
   "cell_type": "code",
   "execution_count": 9,
   "metadata": {
    "collapsed": false
   },
   "outputs": [
    {
     "data": {
      "text/plain": [
       "[1, 2, 3, 4, 5, 6, 7, 8, 9, 10]"
      ]
     },
     "execution_count": 9,
     "metadata": {},
     "output_type": "execute_result"
    }
   ],
   "source": [
    "range(1,11) #instead create a list from 1 up to but not including 11"
   ]
  },
  {
   "cell_type": "markdown",
   "metadata": {},
   "source": [
    "To use this to find the factorial of $54$ we could write"
   ]
  },
  {
   "cell_type": "code",
   "execution_count": 10,
   "metadata": {
    "collapsed": false
   },
   "outputs": [
    {
     "name": "stdout",
     "output_type": "stream",
     "text": [
      "230843697339241380472092742683027581083278564571807941132288000000000000\n"
     ]
    }
   ],
   "source": [
    "solution = 1\n",
    "for i in range(1,55):\n",
    "    solution = solution * i\n",
    "print solution"
   ]
  },
  {
   "cell_type": "markdown",
   "metadata": {},
   "source": [
    "We can also use loops to create lists. Here is an example of the sequence $(\\frac{1}{n})_{n=1}^{14}$"
   ]
  },
  {
   "cell_type": "code",
   "execution_count": 12,
   "metadata": {
    "collapsed": false
   },
   "outputs": [
    {
     "name": "stdout",
     "output_type": "stream",
     "text": [
      "[1.0, 0.5, 0.3333333333333333, 0.25, 0.2, 0.16666666666666666, 0.14285714285714285, 0.125, 0.1111111111111111, 0.1, 0.09090909090909091, 0.08333333333333333, 0.07692307692307693, 0.07142857142857142]\n"
     ]
    }
   ],
   "source": [
    "sequence = []\n",
    "for i in range(1,15):\n",
    "    sequence.append(1.0/i)\n",
    "print sequence"
   ]
  },
  {
   "cell_type": "markdown",
   "metadata": {},
   "source": [
    "There is another way to create the same list which might be a bit easier for mathematicians to write and to read. You can create it like this:"
   ]
  },
  {
   "cell_type": "code",
   "execution_count": 14,
   "metadata": {
    "collapsed": false
   },
   "outputs": [
    {
     "name": "stdout",
     "output_type": "stream",
     "text": [
      "[1.0, 0.5, 0.3333333333333333, 0.25, 0.2, 0.16666666666666666, 0.14285714285714285, 0.125, 0.1111111111111111, 0.1, 0.09090909090909091, 0.08333333333333333, 0.07692307692307693, 0.07142857142857142]\n"
     ]
    }
   ],
   "source": [
    "sequence = [1.0/i for i in range(1,15)]\n",
    "print sequence"
   ]
  },
  {
   "cell_type": "markdown",
   "metadata": {},
   "source": [
    "## Functions\n",
    "We have already used several functions in python. They work very much the same as functions behave in mathematics. For example, if we have the function $f(x,y) = 2x + y - xy$ we expect it to demand to values for $x$ and $y$ and return $2x + y - xy$ as a single value. In python, the structure of a function is as follows:\n",
    "\n",
    "    def FUNCTION(VARIABLES):\n",
    "        the function does\n",
    "        several things\n",
    "        and usually ends with\n",
    "        return RESULT\n",
    "\n",
    "Which means that if we want to define the function above we simply write. Remember that the code of the function has to be indented!"
   ]
  },
  {
   "cell_type": "code",
   "execution_count": 15,
   "metadata": {
    "collapsed": true
   },
   "outputs": [],
   "source": [
    "def some_function(x, y):\n",
    "    theResult = 2*x + y - x*y\n",
    "    return theResult"
   ]
  },
  {
   "cell_type": "markdown",
   "metadata": {},
   "source": [
    "The return statement means that the function will return that as the answer. It is not neccessary to include it as some functions might print things instead, but it is very common for it to be included. If we wish to use the function we simply write"
   ]
  },
  {
   "cell_type": "code",
   "execution_count": 20,
   "metadata": {
    "collapsed": false
   },
   "outputs": [
    {
     "name": "stdout",
     "output_type": "stream",
     "text": [
      "4\n"
     ]
    }
   ],
   "source": [
    "theResult = some_function(3,1)\n",
    "print theResult"
   ]
  },
  {
   "cell_type": "markdown",
   "metadata": {},
   "source": [
    "A function can call other functions and can even call on itself. If we wanted to create a function that calculated\n",
    "${n\\choose k} = \\frac{n!}{k!(n-k)!}$ we could first define a function that calculated the factorial which we use to calculate the original function"
   ]
  },
  {
   "cell_type": "code",
   "execution_count": 21,
   "metadata": {
    "collapsed": false
   },
   "outputs": [
    {
     "name": "stdout",
     "output_type": "stream",
     "text": [
      "252\n"
     ]
    }
   ],
   "source": [
    "def factorial(x):\n",
    "    result = 1\n",
    "    for i in range(1, x + 1): # Remember that range(a,b) creates the list [a, a + 1, ..., a - 1]\n",
    "        result *= i\n",
    "    return result\n",
    "\n",
    "def choose(n, k):\n",
    "    result = factorial(n)/(factorial(k)*factorial(n - k))\n",
    "    return result\n",
    "\n",
    "print choose(10,5)"
   ]
  },
  {
   "cell_type": "markdown",
   "metadata": {},
   "source": [
    "## Importing libraries\n",
    "Even though there are many functions in python from the start, there are many more we might need. The function factorial does not exist in python from the start which meant we had to write it, and it is the same with many other useful functions. Most of these have actually already been written by someone else. To include them we need to import the library that they are in. A library can be seen as a set of functions and when we import the library we make the functions available to the interpreter. The function factorial exists in the library math which we can import and use the function from there. To use a function from a library we first have to state the library and then that function with a dot in between\n",
    "\n",
    "    LIBRARY.FUNCTION"
   ]
  },
  {
   "cell_type": "code",
   "execution_count": 30,
   "metadata": {
    "collapsed": false
   },
   "outputs": [
    {
     "data": {
      "text/plain": [
       "120"
      ]
     },
     "execution_count": 30,
     "metadata": {},
     "output_type": "execute_result"
    }
   ],
   "source": [
    "import math\n",
    "\n",
    "math.factorial(5)"
   ]
  },
  {
   "cell_type": "markdown",
   "metadata": {},
   "source": [
    "We can also import specific functions from a library by writing"
   ]
  },
  {
   "cell_type": "code",
   "execution_count": 31,
   "metadata": {
    "collapsed": false
   },
   "outputs": [
    {
     "data": {
      "text/plain": [
       "1.0"
      ]
     },
     "execution_count": 31,
     "metadata": {},
     "output_type": "execute_result"
    }
   ],
   "source": [
    "from math import cos, pi\n",
    "cos(2*pi)"
   ]
  },
  {
   "cell_type": "markdown",
   "metadata": {},
   "source": [
    "Notice that in this case we do not use the function by first friting the name of the library.\n",
    "\n",
    "## Conditional statements\n",
    "\n",
    "Conditional statements are often called if-statements. You write them as follows:\n",
    "\n",
    "    if CONDITION:\n",
    "        do this\n",
    "    elif ANOTER_CONDITION:\n",
    "        do that\n",
    "    else:\n",
    "        this should be done\n",
    "\n",
    "the interpreter goes through each statement until it finds a condition that is true and executes the code in that statement. After that, the interpreter goes past the other elif and else statements. If None of the statementents are true it executes the code in the else part. When using if-statements we need to know some things about relational symbols first. These are <, >, ==, and !. < means less than, > means greater than, == means equal (not the same as = which is assignment) and ! means not."
   ]
  },
  {
   "cell_type": "code",
   "execution_count": 32,
   "metadata": {
    "collapsed": false
   },
   "outputs": [
    {
     "data": {
      "text/plain": [
       "True"
      ]
     },
     "execution_count": 32,
     "metadata": {},
     "output_type": "execute_result"
    }
   ],
   "source": [
    "4 > 3"
   ]
  },
  {
   "cell_type": "code",
   "execution_count": 33,
   "metadata": {
    "collapsed": false
   },
   "outputs": [
    {
     "data": {
      "text/plain": [
       "False"
      ]
     },
     "execution_count": 33,
     "metadata": {},
     "output_type": "execute_result"
    }
   ],
   "source": [
    "7 == 1"
   ]
  },
  {
   "cell_type": "code",
   "execution_count": 38,
   "metadata": {
    "collapsed": false
   },
   "outputs": [
    {
     "data": {
      "text/plain": [
       "True"
      ]
     },
     "execution_count": 38,
     "metadata": {},
     "output_type": "execute_result"
    }
   ],
   "source": [
    "4 >= 4"
   ]
  },
  {
   "cell_type": "code",
   "execution_count": 39,
   "metadata": {
    "collapsed": false
   },
   "outputs": [
    {
     "data": {
      "text/plain": [
       "False"
      ]
     },
     "execution_count": 39,
     "metadata": {},
     "output_type": "execute_result"
    }
   ],
   "source": [
    "4 != 4"
   ]
  },
  {
   "cell_type": "markdown",
   "metadata": {},
   "source": [
    "As you can see some can be combined to mean greater than or equal and not equal. Try it out and see which combinations work and which don't. Using these we can write some simple conditional statements:"
   ]
  },
  {
   "cell_type": "code",
   "execution_count": 40,
   "metadata": {
    "collapsed": false
   },
   "outputs": [
    {
     "name": "stdout",
     "output_type": "stream",
     "text": [
      "3 is smaller than 5\n"
     ]
    }
   ],
   "source": [
    "if 3 > 6:\n",
    "    print \"{} is larger than {}\".format(3, 6)\n",
    "elif 3 < 5:\n",
    "    print \"{} is smaller than {}\".format(3, 5)\n",
    "elif 3 != 12:\n",
    "    print \"{} is not equal to {}\".format(3, 12)\n",
    "else:\n",
    "    print \"Tomatopaste\""
   ]
  },
  {
   "cell_type": "markdown",
   "metadata": {},
   "source": [
    "Notice that even though $3 \\neq 12$, it did not print that statement. It only executed the first thing that held true."
   ]
  },
  {
   "cell_type": "code",
   "execution_count": null,
   "metadata": {
    "collapsed": true
   },
   "outputs": [],
   "source": []
  }
 ],
 "metadata": {
  "kernelspec": {
   "display_name": "Python 2",
   "language": "python",
   "name": "python2"
  },
  "language_info": {
   "codemirror_mode": {
    "name": "ipython",
    "version": 2
   },
   "file_extension": ".py",
   "mimetype": "text/x-python",
   "name": "python",
   "nbconvert_exporter": "python",
   "pygments_lexer": "ipython2",
   "version": "2.7.6"
  }
 },
 "nbformat": 4,
 "nbformat_minor": 0
}
